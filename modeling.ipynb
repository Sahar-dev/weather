{
 "cells": [
  {
   "cell_type": "code",
   "execution_count": 15,
   "id": "794b9537",
   "metadata": {},
   "outputs": [],
   "source": [
    "import pandas as pd\n",
    "from sklearn.model_selection import train_test_split\n",
    "from sklearn.preprocessing import StandardScaler\n",
    "import matplotlib.pyplot as plt\n",
    "from sklearn import preprocessing\n",
    "from sklearn.model_selection import train_test_split\n",
    "from scipy import stats\n",
    "from sklearn.linear_model import LogisticRegression\n",
    "from collections import Counter\n",
    "from sklearn.metrics import confusion_matrix\n",
    "from sklearn.metrics import accuracy_score, f1_score\n",
    "from xgboost import XGBClassifier\n",
    "from sklearn.ensemble import RandomForestRegressor\n",
    "from sklearn.naive_bayes import BernoulliNB\n",
    "from sklearn.naive_bayes import GaussianNB\n",
    "from sklearn.svm import SVC\n",
    "from sklearn.ensemble import RandomForestRegressor\n",
    "import warnings\n",
    "\n",
    "warnings.filterwarnings(\"ignore\")\n"
   ]
  },
  {
   "cell_type": "code",
   "execution_count": 17,
   "id": "0481f66a",
   "metadata": {},
   "outputs": [],
   "source": [
    "# Load the CSV files\n",
    "train_data = pd.read_csv('data/train_data.csv')\n",
    "test_data = pd.read_csv('data/test_data.csv')\n",
    "\n",
    "# Separate features and target\n",
    "selected_features = ['Rainfall', 'Sunshine', 'WindGustSpeed', 'Humidity9am', 'Humidity3pm', 'Pressure9am', 'Pressure3pm', 'Cloud3pm', 'Temp3pm']\n",
    "\n",
    "x_train = train_data[selected_features]\n",
    "y_train = train_data['RainTomorrow']\n",
    "\n",
    "x_test = test_data[selected_features]\n",
    "y_test = test_data['RainTomorrow']"
   ]
  },
  {
   "cell_type": "code",
   "execution_count": 18,
   "id": "0258eae7",
   "metadata": {},
   "outputs": [
    {
     "data": {
      "text/plain": [
       "(176505, 10)"
      ]
     },
     "execution_count": 18,
     "metadata": {},
     "output_type": "execute_result"
    }
   ],
   "source": [
    "train_data.shape"
   ]
  },
  {
   "cell_type": "code",
   "execution_count": 19,
   "id": "f029f963",
   "metadata": {},
   "outputs": [
    {
     "data": {
      "text/plain": [
       "(44127, 10)"
      ]
     },
     "execution_count": 19,
     "metadata": {},
     "output_type": "execute_result"
    }
   ],
   "source": [
    "test_data.shape"
   ]
  },
  {
   "cell_type": "code",
   "execution_count": 20,
   "id": "91e84a93",
   "metadata": {},
   "outputs": [
    {
     "data": {
      "text/plain": [
       "0         1.0\n",
       "1         0.0\n",
       "2         0.0\n",
       "3         0.0\n",
       "4         1.0\n",
       "         ... \n",
       "176500    0.0\n",
       "176501    0.0\n",
       "176502    0.0\n",
       "176503    1.0\n",
       "176504    1.0\n",
       "Name: RainTomorrow, Length: 176505, dtype: float64"
      ]
     },
     "execution_count": 20,
     "metadata": {},
     "output_type": "execute_result"
    }
   ],
   "source": [
    "y_train"
   ]
  },
  {
   "cell_type": "code",
   "execution_count": 21,
   "id": "ee514b08",
   "metadata": {},
   "outputs": [
    {
     "data": {
      "text/html": [
       "<div>\n",
       "<style scoped>\n",
       "    .dataframe tbody tr th:only-of-type {\n",
       "        vertical-align: middle;\n",
       "    }\n",
       "\n",
       "    .dataframe tbody tr th {\n",
       "        vertical-align: top;\n",
       "    }\n",
       "\n",
       "    .dataframe thead th {\n",
       "        text-align: right;\n",
       "    }\n",
       "</style>\n",
       "<table border=\"1\" class=\"dataframe\">\n",
       "  <thead>\n",
       "    <tr style=\"text-align: right;\">\n",
       "      <th></th>\n",
       "      <th>Rainfall</th>\n",
       "      <th>Sunshine</th>\n",
       "      <th>WindGustSpeed</th>\n",
       "      <th>Humidity9am</th>\n",
       "      <th>Humidity3pm</th>\n",
       "      <th>Pressure9am</th>\n",
       "      <th>Pressure3pm</th>\n",
       "      <th>Cloud3pm</th>\n",
       "      <th>Temp3pm</th>\n",
       "    </tr>\n",
       "  </thead>\n",
       "  <tbody>\n",
       "    <tr>\n",
       "      <th>0</th>\n",
       "      <td>-0.083571</td>\n",
       "      <td>0.001012</td>\n",
       "      <td>1.055149</td>\n",
       "      <td>1.404182</td>\n",
       "      <td>1.873651</td>\n",
       "      <td>-0.001497</td>\n",
       "      <td>-0.001371</td>\n",
       "      <td>-0.000238</td>\n",
       "      <td>-2.339486</td>\n",
       "    </tr>\n",
       "    <tr>\n",
       "      <th>1</th>\n",
       "      <td>-0.332819</td>\n",
       "      <td>-0.419556</td>\n",
       "      <td>-1.278734</td>\n",
       "      <td>0.970936</td>\n",
       "      <td>0.155975</td>\n",
       "      <td>1.933694</td>\n",
       "      <td>2.095232</td>\n",
       "      <td>-0.000238</td>\n",
       "      <td>-0.841089</td>\n",
       "    </tr>\n",
       "    <tr>\n",
       "      <th>2</th>\n",
       "      <td>-0.315015</td>\n",
       "      <td>-1.892706</td>\n",
       "      <td>-0.995839</td>\n",
       "      <td>0.429378</td>\n",
       "      <td>0.388094</td>\n",
       "      <td>0.069905</td>\n",
       "      <td>0.039409</td>\n",
       "      <td>0.883369</td>\n",
       "      <td>0.788235</td>\n",
       "    </tr>\n",
       "    <tr>\n",
       "      <th>3</th>\n",
       "      <td>-0.279409</td>\n",
       "      <td>-2.278531</td>\n",
       "      <td>0.842978</td>\n",
       "      <td>1.187559</td>\n",
       "      <td>0.480941</td>\n",
       "      <td>-0.747294</td>\n",
       "      <td>-0.148800</td>\n",
       "      <td>0.883369</td>\n",
       "      <td>-0.695614</td>\n",
       "    </tr>\n",
       "    <tr>\n",
       "      <th>4</th>\n",
       "      <td>-0.332819</td>\n",
       "      <td>-0.314331</td>\n",
       "      <td>1.196596</td>\n",
       "      <td>-0.816205</td>\n",
       "      <td>0.666636</td>\n",
       "      <td>-0.345863</td>\n",
       "      <td>-0.090889</td>\n",
       "      <td>0.883369</td>\n",
       "      <td>-1.262968</td>\n",
       "    </tr>\n",
       "    <tr>\n",
       "      <th>...</th>\n",
       "      <td>...</td>\n",
       "      <td>...</td>\n",
       "      <td>...</td>\n",
       "      <td>...</td>\n",
       "      <td>...</td>\n",
       "      <td>...</td>\n",
       "      <td>...</td>\n",
       "      <td>...</td>\n",
       "      <td>...</td>\n",
       "    </tr>\n",
       "    <tr>\n",
       "      <th>176500</th>\n",
       "      <td>-0.261605</td>\n",
       "      <td>0.737919</td>\n",
       "      <td>-0.217878</td>\n",
       "      <td>0.700157</td>\n",
       "      <td>-0.493956</td>\n",
       "      <td>0.858432</td>\n",
       "      <td>0.835678</td>\n",
       "      <td>-0.090827</td>\n",
       "      <td>-1.088397</td>\n",
       "    </tr>\n",
       "    <tr>\n",
       "      <th>176501</th>\n",
       "      <td>-0.332819</td>\n",
       "      <td>0.001012</td>\n",
       "      <td>-0.500773</td>\n",
       "      <td>-0.978673</td>\n",
       "      <td>-0.958193</td>\n",
       "      <td>-0.790305</td>\n",
       "      <td>-0.974024</td>\n",
       "      <td>-2.039217</td>\n",
       "      <td>2.359369</td>\n",
       "    </tr>\n",
       "    <tr>\n",
       "      <th>176502</th>\n",
       "      <td>-0.332819</td>\n",
       "      <td>-1.226281</td>\n",
       "      <td>-0.854391</td>\n",
       "      <td>-0.599582</td>\n",
       "      <td>0.063128</td>\n",
       "      <td>0.155927</td>\n",
       "      <td>0.039409</td>\n",
       "      <td>-1.552120</td>\n",
       "      <td>0.846425</td>\n",
       "    </tr>\n",
       "    <tr>\n",
       "      <th>176503</th>\n",
       "      <td>0.770994</td>\n",
       "      <td>0.843144</td>\n",
       "      <td>1.479491</td>\n",
       "      <td>1.404182</td>\n",
       "      <td>-1.561701</td>\n",
       "      <td>-0.245505</td>\n",
       "      <td>-1.002979</td>\n",
       "      <td>-2.039217</td>\n",
       "      <td>2.170251</td>\n",
       "    </tr>\n",
       "    <tr>\n",
       "      <th>176504</th>\n",
       "      <td>-0.332819</td>\n",
       "      <td>0.001012</td>\n",
       "      <td>1.479491</td>\n",
       "      <td>-2.657502</td>\n",
       "      <td>-1.283159</td>\n",
       "      <td>-1.392452</td>\n",
       "      <td>-0.930591</td>\n",
       "      <td>-0.000238</td>\n",
       "      <td>1.137376</td>\n",
       "    </tr>\n",
       "  </tbody>\n",
       "</table>\n",
       "<p>176505 rows × 9 columns</p>\n",
       "</div>"
      ],
      "text/plain": [
       "        Rainfall  Sunshine  WindGustSpeed  Humidity9am  Humidity3pm  \\\n",
       "0      -0.083571  0.001012       1.055149     1.404182     1.873651   \n",
       "1      -0.332819 -0.419556      -1.278734     0.970936     0.155975   \n",
       "2      -0.315015 -1.892706      -0.995839     0.429378     0.388094   \n",
       "3      -0.279409 -2.278531       0.842978     1.187559     0.480941   \n",
       "4      -0.332819 -0.314331       1.196596    -0.816205     0.666636   \n",
       "...          ...       ...            ...          ...          ...   \n",
       "176500 -0.261605  0.737919      -0.217878     0.700157    -0.493956   \n",
       "176501 -0.332819  0.001012      -0.500773    -0.978673    -0.958193   \n",
       "176502 -0.332819 -1.226281      -0.854391    -0.599582     0.063128   \n",
       "176503  0.770994  0.843144       1.479491     1.404182    -1.561701   \n",
       "176504 -0.332819  0.001012       1.479491    -2.657502    -1.283159   \n",
       "\n",
       "        Pressure9am  Pressure3pm  Cloud3pm   Temp3pm  \n",
       "0         -0.001497    -0.001371 -0.000238 -2.339486  \n",
       "1          1.933694     2.095232 -0.000238 -0.841089  \n",
       "2          0.069905     0.039409  0.883369  0.788235  \n",
       "3         -0.747294    -0.148800  0.883369 -0.695614  \n",
       "4         -0.345863    -0.090889  0.883369 -1.262968  \n",
       "...             ...          ...       ...       ...  \n",
       "176500     0.858432     0.835678 -0.090827 -1.088397  \n",
       "176501    -0.790305    -0.974024 -2.039217  2.359369  \n",
       "176502     0.155927     0.039409 -1.552120  0.846425  \n",
       "176503    -0.245505    -1.002979 -2.039217  2.170251  \n",
       "176504    -1.392452    -0.930591 -0.000238  1.137376  \n",
       "\n",
       "[176505 rows x 9 columns]"
      ]
     },
     "execution_count": 21,
     "metadata": {},
     "output_type": "execute_result"
    }
   ],
   "source": [
    "X_train\n"
   ]
  },
  {
   "cell_type": "code",
   "execution_count": 22,
   "id": "b9fadb23",
   "metadata": {},
   "outputs": [
    {
     "name": "stdout",
     "output_type": "stream",
     "text": [
      "The accuracy of Logistic Regression is :  77.63500804496114 %\n",
      "\n",
      "F1 score for logistic regression is : 77.39008912002566 %\n"
     ]
    }
   ],
   "source": [
    "model = LogisticRegression(max_iter=500)\n",
    "model.fit(x_train, y_train)\n",
    "predicted=model.predict(x_test)\n",
    "\n",
    "conf = confusion_matrix(y_test, predicted)\n",
    "print (\"The accuracy of Logistic Regression is : \", accuracy_score(y_test, predicted)*100, \"%\")\n",
    "print()\n",
    "print(\"F1 score for logistic regression is :\",f1_score(y_test, predicted,)*100, \"%\")\n"
   ]
  },
  {
   "cell_type": "code",
   "execution_count": 41,
   "id": "c5c784ed",
   "metadata": {},
   "outputs": [
    {
     "name": "stdout",
     "output_type": "stream",
     "text": [
      "\n",
      "XGBoost Classification Report:\n",
      "              precision    recall  f1-score   support\n",
      "\n",
      "         0.0       0.82      0.82      0.82     22064\n",
      "         1.0       0.82      0.82      0.82     22063\n",
      "\n",
      "    accuracy                           0.82     44127\n",
      "   macro avg       0.82      0.82      0.82     44127\n",
      "weighted avg       0.82      0.82      0.82     44127\n",
      "\n",
      "\n",
      "XGBoost Accuracy: 0.8185238062864006\n",
      "XGBoost F1 Score: 0.8190773123672676\n"
     ]
    }
   ],
   "source": [
    "# XGBoost Classifier\n",
    "xgbc = XGBClassifier(objective='binary:logistic')\n",
    "xgbc.fit(x_train, y_train)\n",
    "y_pred_xgboost = xgbc.predict(x_test)\n",
    "\n",
    "# Print XGBoost results\n",
    "print(\"\\nXGBoost Classification Report:\")\n",
    "print(classification_report(y_test, y_pred_xgboost))\n",
    "\n",
    "# Calculate XGBoost accuracy and F1 score\n",
    "accuracy_xgboost = accuracy_score(y_test, y_pred_xgboost)\n",
    "f1_xgboost = f1_score(y_test, y_pred_xgboost)\n",
    "\n",
    "print(\"\\nXGBoost Accuracy:\", accuracy_xgboost)\n",
    "print(\"XGBoost F1 Score:\", f1_xgboost)"
   ]
  },
  {
   "cell_type": "code",
   "execution_count": 40,
   "id": "d09c6216",
   "metadata": {},
   "outputs": [
    {
     "name": "stdout",
     "output_type": "stream",
     "text": [
      "Random Forest Classification Report:\n",
      "              precision    recall  f1-score   support\n",
      "\n",
      "         0.0       0.97      0.90      0.93     22064\n",
      "         1.0       0.91      0.97      0.94     22063\n",
      "\n",
      "    accuracy                           0.94     44127\n",
      "   macro avg       0.94      0.94      0.94     44127\n",
      "weighted avg       0.94      0.94      0.94     44127\n",
      "\n",
      "\n",
      "Random Forest Accuracy: 0.9367054184512883\n",
      "Random Forest F1 Score: 0.9389067524115756\n"
     ]
    }
   ],
   "source": [
    "# Random Forest Regressor\n",
    "random_forest_model = RandomForestRegressor(n_estimators=100, random_state=0)\n",
    "random_forest_model.fit(x_train, y_train)\n",
    "y_pred_random_forest = random_forest_model.predict(x_test)\n",
    "\n",
    "# Print Random Forest results\n",
    "print(\"Random Forest Classification Report:\")\n",
    "print(classification_report(y_test, y_pred_random_forest.round()))\n",
    "\n",
    "# Calculate Random Forest accuracy and F1 score\n",
    "accuracy_random_forest = accuracy_score(y_test, y_pred_random_forest.round())\n",
    "f1_random_forest = f1_score(y_test, y_pred_random_forest.round())\n",
    "\n",
    "print(\"\\nRandom Forest Accuracy:\", accuracy_random_forest)\n",
    "print(\"Random Forest F1 Score:\", f1_random_forest)\n"
   ]
  },
  {
   "cell_type": "code",
   "execution_count": 25,
   "id": "67c11b1c",
   "metadata": {},
   "outputs": [
    {
     "name": "stdout",
     "output_type": "stream",
     "text": [
      "The accuracy of Gaussian Naive Bayes model is :  74.17680785006911 %\n",
      "\n",
      "F1 score for Bernoulli Naive Bayes is : 73.71698766001613 %\n"
     ]
    }
   ],
   "source": [
    "model = BernoulliNB()\n",
    "model.fit(x_train, y_train)\n",
    "  \n",
    "predicted = model.predict(x_test)\n",
    "  \n",
    "print(\"The accuracy of Gaussian Naive Bayes model is : \", accuracy_score(y_test, predicted)*100, \"%\")\n",
    "print()\n",
    "print(\"F1 score for Bernoulli Naive Bayes is :\",f1_score(y_test, predicted,)*100, \"%\")\n"
   ]
  },
  {
   "cell_type": "code",
   "execution_count": 39,
   "id": "42062163",
   "metadata": {},
   "outputs": [
    {
     "name": "stdout",
     "output_type": "stream",
     "text": [
      "\n",
      "Bernoulli Naive Bayes Classification Report:\n",
      "              precision    recall  f1-score   support\n",
      "\n",
      "         0.0       0.73      0.76      0.75     22064\n",
      "         1.0       0.75      0.72      0.74     22063\n",
      "\n",
      "    accuracy                           0.74     44127\n",
      "   macro avg       0.74      0.74      0.74     44127\n",
      "weighted avg       0.74      0.74      0.74     44127\n",
      "\n",
      "\n",
      "Bernoulli Naive Bayes Accuracy: 0.7417680785006912\n",
      "Bernoulli Naive Bayes F1 Score: 0.7371698766001613\n"
     ]
    }
   ],
   "source": [
    "# Bernoulli Naive Bayes\n",
    "naive_bayes_model = BernoulliNB()\n",
    "naive_bayes_model.fit(x_train, y_train)\n",
    "y_pred_naive_bayes = naive_bayes_model.predict(x_test)\n",
    "\n",
    "# Print Bernoulli Naive Bayes results\n",
    "print(\"\\nBernoulli Naive Bayes Classification Report:\")\n",
    "print(classification_report(y_test, y_pred_naive_bayes))\n",
    "\n",
    "# Calculate Bernoulli Naive Bayes accuracy and F1 score\n",
    "accuracy_naive_bayes = accuracy_score(y_test, y_pred_naive_bayes)\n",
    "f1_naive_bayes = f1_score(y_test, y_pred_naive_bayes)\n",
    "\n",
    "print(\"\\nBernoulli Naive Bayes Accuracy:\", accuracy_naive_bayes)\n",
    "print(\"Bernoulli Naive Bayes F1 Score:\", f1_naive_bayes)"
   ]
  },
  {
   "cell_type": "code",
   "execution_count": 26,
   "id": "1f3c044f",
   "metadata": {},
   "outputs": [],
   "source": [
    "import lightgbm as lgb"
   ]
  },
  {
   "cell_type": "code",
   "execution_count": 38,
   "id": "e2578811",
   "metadata": {},
   "outputs": [
    {
     "name": "stdout",
     "output_type": "stream",
     "text": [
      "              precision    recall  f1-score   support\n",
      "\n",
      "         0.0       0.80      0.80      0.80     22064\n",
      "         1.0       0.80      0.80      0.80     22063\n",
      "\n",
      "    accuracy                           0.80     44127\n",
      "   macro avg       0.80      0.80      0.80     44127\n",
      "weighted avg       0.80      0.80      0.80     44127\n",
      "\n",
      "Accuracy: 0.803113739887144\n",
      "F1 Score: 0.8027516687099849\n"
     ]
    }
   ],
   "source": [
    "from sklearn.metrics import f1_score\n",
    "\n",
    "# Create LGBM Regressor\n",
    "model = lgb.LGBMRegressor(n_estimators=100, random_state=0)\n",
    "\n",
    "# Fit the model\n",
    "model.fit(x_train, y_train)\n",
    "\n",
    "# Predict on the test set\n",
    "y_pred = model.predict(x_test)\n",
    "\n",
    "# Convert the predictions to binary values (0 or 1) based on a threshold\n",
    "threshold = 0.5  # You can adjust this threshold\n",
    "y_pred_binary = (y_pred > threshold).astype(int)\n",
    "print(classification_report(y_test, y_pred_binary))\n",
    "\n",
    "# Calculate accuracy and F1 score\n",
    "accuracy = accuracy_score(y_test, y_pred_binary)\n",
    "f1 = f1_score(y_test, y_pred_binary)\n",
    "\n",
    "# Print the results\n",
    "print(\"Accuracy:\", accuracy)\n",
    "print(\"F1 Score:\", f1)\n",
    "\n"
   ]
  },
  {
   "cell_type": "code",
   "execution_count": null,
   "id": "eb3b75e0",
   "metadata": {},
   "outputs": [],
   "source": []
  },
  {
   "cell_type": "code",
   "execution_count": null,
   "id": "5980f2d5",
   "metadata": {},
   "outputs": [],
   "source": []
  },
  {
   "cell_type": "code",
   "execution_count": 32,
   "id": "bdbbeede",
   "metadata": {},
   "outputs": [],
   "source": [
    "from sklearn.ensemble import IsolationForest"
   ]
  },
  {
   "cell_type": "code",
   "execution_count": 33,
   "id": "e17c1f8c",
   "metadata": {},
   "outputs": [
    {
     "name": "stdout",
     "output_type": "stream",
     "text": [
      "Confusion Matrix:\n",
      "[[21078   986]\n",
      " [20897  1166]]\n",
      "\n",
      "Classification Report:\n",
      "              precision    recall  f1-score   support\n",
      "\n",
      "         0.0       0.50      0.96      0.66     22064\n",
      "         1.0       0.54      0.05      0.10     22063\n",
      "\n",
      "    accuracy                           0.50     44127\n",
      "   macro avg       0.52      0.50      0.38     44127\n",
      "weighted avg       0.52      0.50      0.38     44127\n",
      "\n"
     ]
    }
   ],
   "source": [
    "# Create Isolation Forest model\n",
    "model = IsolationForest(contamination=0.05, random_state=42)  # Adjust contamination based on the expected proportion of anomalies\n",
    "\n",
    "# Fit the model on the training data\n",
    "model.fit(x_train)\n",
    "\n",
    "# Predict anomalies on the test set\n",
    "y_pred = model.predict(x_test)\n",
    "\n",
    "# Convert predictions to 1 for anomalies and 0 for normal instances\n",
    "y_pred_binary = (y_pred == -1).astype(int)\n",
    "\n",
    "# Evaluate the model\n",
    "print(\"Confusion Matrix:\")\n",
    "print(confusion_matrix(y_test, y_pred_binary))\n",
    "\n",
    "print(\"\\nClassification Report:\")\n",
    "print(classification_report(y_test, y_pred_binary))"
   ]
  },
  {
   "cell_type": "code",
   "execution_count": null,
   "id": "efab7460",
   "metadata": {},
   "outputs": [],
   "source": []
  }
 ],
 "metadata": {
  "kernelspec": {
   "display_name": "mlops",
   "language": "python",
   "name": "mlops"
  },
  "language_info": {
   "codemirror_mode": {
    "name": "ipython",
    "version": 3
   },
   "file_extension": ".py",
   "mimetype": "text/x-python",
   "name": "python",
   "nbconvert_exporter": "python",
   "pygments_lexer": "ipython3",
   "version": "3.8.8"
  }
 },
 "nbformat": 4,
 "nbformat_minor": 5
}
